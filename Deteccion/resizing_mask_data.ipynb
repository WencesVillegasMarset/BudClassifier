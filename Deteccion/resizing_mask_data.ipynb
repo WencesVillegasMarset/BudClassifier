{
 "cells": [
  {
   "cell_type": "code",
   "execution_count": 1,
   "metadata": {},
   "outputs": [
    {
     "name": "stderr",
     "output_type": "stream",
     "text": [
      "/home/wvillegas/miniconda3/lib/python3.6/importlib/_bootstrap.py:219: RuntimeWarning: numpy.dtype size changed, may indicate binary incompatibility. Expected 96, got 88\n",
      "  return f(*args, **kwds)\n"
     ]
    }
   ],
   "source": [
    "import os\n",
    "import cv2 \n",
    "import pandas as pd\n",
    "from skimage.io import imshow\n",
    "%matplotlib inline"
   ]
  },
  {
   "cell_type": "code",
   "execution_count": 2,
   "metadata": {},
   "outputs": [],
   "source": [
    "dataset = pd.read_csv(os.path.join('/home','wvillegas','dataset-mask', 'full_masks.csv'))"
   ]
  },
  {
   "cell_type": "code",
   "execution_count": 3,
   "metadata": {},
   "outputs": [],
   "source": [
    "mask_path = os.path.join('/home','wvillegas','dataset-mask', 'masks')\n",
    "image_path = os.path.join('/home','wvillegas','dataset-mask', 'images')"
   ]
  },
  {
   "cell_type": "code",
   "execution_count": 4,
   "metadata": {},
   "outputs": [],
   "source": [
    "img_res_path = os.path.join('/home','wvillegas','dataset-mask', 'dataset_resize', 'images_resize')\n",
    "msk_res_path = os.path.join('/home','wvillegas','dataset-mask', 'dataset_resize', 'masks_resize')"
   ]
  },
  {
   "cell_type": "code",
   "execution_count": 5,
   "metadata": {},
   "outputs": [],
   "source": [
    "for idx, row in dataset.iterrows():\n",
    "    img = cv2.imread(image_path + '/'+ row['orig'])\n",
    "    msk = cv2.imread(mask_path + '/'+ row['mask'])\n",
    "    img = cv2.resize(img, (2048,2048))\n",
    "    msk = cv2.resize(msk, (2048,2048))\n",
    "    cv2.imwrite(img_res_path + '/' + row['orig'],img)\n",
    "    cv2.imwrite(msk_res_path + '/' + row['mask'], msk)"
   ]
  }
 ],
 "metadata": {
  "kernelspec": {
   "display_name": "Python 3",
   "language": "python",
   "name": "python3"
  },
  "language_info": {
   "codemirror_mode": {
    "name": "ipython",
    "version": 3
   },
   "file_extension": ".py",
   "mimetype": "text/x-python",
   "name": "python",
   "nbconvert_exporter": "python",
   "pygments_lexer": "ipython3",
   "version": "3.6.6"
  }
 },
 "nbformat": 4,
 "nbformat_minor": 2
}
