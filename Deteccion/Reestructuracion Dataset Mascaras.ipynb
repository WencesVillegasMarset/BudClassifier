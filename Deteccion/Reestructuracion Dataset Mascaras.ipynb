{
 "cells": [
  {
   "cell_type": "code",
   "execution_count": 25,
   "metadata": {},
   "outputs": [],
   "source": [
    "import os\n",
    "from shutil import copyfile\n",
    "import numpy as np\n",
    "import cv2\n",
    "import pandas as pd\n",
    "import re"
   ]
  },
  {
   "cell_type": "code",
   "execution_count": 13,
   "metadata": {},
   "outputs": [],
   "source": [
    "target_path = \"/home/wvillegas/dataset-mask/images\""
   ]
  },
  {
   "cell_type": "code",
   "execution_count": 14,
   "metadata": {},
   "outputs": [],
   "source": [
    "mask_path = \"/home/wvillegas/masks\"\n",
    "fullres_path = \"/home/wvillegas/bud-highres/bud-highres\""
   ]
  },
  {
   "cell_type": "code",
   "execution_count": 15,
   "metadata": {},
   "outputs": [],
   "source": [
    "csv = pd.read_csv('corpus-26000-positivo.csv')"
   ]
  },
  {
   "cell_type": "code",
   "execution_count": 16,
   "metadata": {},
   "outputs": [],
   "source": [
    "mask_list = os.listdir(mask_path)"
   ]
  },
  {
   "cell_type": "code",
   "execution_count": 17,
   "metadata": {},
   "outputs": [],
   "source": [
    "fullres_list = os.listdir(fullres_path)"
   ]
  },
  {
   "cell_type": "code",
   "execution_count": 22,
   "metadata": {},
   "outputs": [
    {
     "data": {
      "text/plain": [
       "773"
      ]
     },
     "execution_count": 22,
     "metadata": {},
     "output_type": "execute_result"
    }
   ],
   "source": [
    "len(fullres_list)"
   ]
  },
  {
   "cell_type": "code",
   "execution_count": 19,
   "metadata": {},
   "outputs": [
    {
     "data": {
      "text/plain": [
       "858"
      ]
     },
     "execution_count": 19,
     "metadata": {},
     "output_type": "execute_result"
    }
   ],
   "source": [
    "len(mask_list)"
   ]
  },
  {
   "cell_type": "code",
   "execution_count": 21,
   "metadata": {},
   "outputs": [
    {
     "data": {
      "text/plain": [
       "Index(['imageName', 'imageOrigin', 'xBudCenter', 'yBudCenter', 'radio',\n",
       "       'class', 'type'],\n",
       "      dtype='object')"
      ]
     },
     "execution_count": 21,
     "metadata": {},
     "output_type": "execute_result"
    }
   ],
   "source": [
    "csv.columns"
   ]
  },
  {
   "cell_type": "code",
   "execution_count": 30,
   "metadata": {},
   "outputs": [],
   "source": [
    "ml = []\n",
    "fl = []\n",
    "for idx, row in csv.iterrows():\n",
    "    if row['imageOrigin'] in fullres_list:\n",
    "        numero_patch = re.findall(r'[0-9]+',row['imageName'])\n",
    "        numero_fullr = re.findall(r'[0-9]+',row['imageOrigin']) \n",
    "        mask_name = numero_patch[0] + \"_mask.png\"\n",
    "        if mask_name in mask_list:\n",
    "            m_path = os.path.join(mask_path,mask_name)\n",
    "            fullr_path = os.path.join(fullres_path,row['imageOrigin'])\n",
    "            mask_dest = os.path.join(target_path, numero_fullr[0]+'_'+mask_name)\n",
    "            fullr_dest = os.path.join(target_path,row['imageOrigin'])\n",
    "            copyfile(src=m_path, dst=mask_dest)\n",
    "            copyfile(src=fullr_path ,dst=fullr_dest)\n",
    "            ml.append(numero_fullr[0]+'_'+mask_name)\n",
    "            fl.append(row['imageOrigin'])"
   ]
  },
  {
   "cell_type": "code",
   "execution_count": 39,
   "metadata": {},
   "outputs": [],
   "source": [
    "df = pd.DataFrame({\n",
    "    'imageOrigin':fl,\n",
    "    'mask':ml\n",
    "})"
   ]
  },
  {
   "cell_type": "code",
   "execution_count": 41,
   "metadata": {},
   "outputs": [],
   "source": [
    "df.to_csv(\"/home/wvillegas/dataset-mask/detection_dataset.csv\")"
   ]
  }
 ],
 "metadata": {
  "kernelspec": {
   "display_name": "Python 3",
   "language": "python",
   "name": "python3"
  },
  "language_info": {
   "codemirror_mode": {
    "name": "ipython",
    "version": 3
   },
   "file_extension": ".py",
   "mimetype": "text/x-python",
   "name": "python",
   "nbconvert_exporter": "python",
   "pygments_lexer": "ipython3",
   "version": "3.6.6"
  }
 },
 "nbformat": 4,
 "nbformat_minor": 2
}
