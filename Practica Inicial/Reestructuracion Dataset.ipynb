{
 "cells": [
  {
   "cell_type": "code",
   "execution_count": 21,
   "metadata": {},
   "outputs": [],
   "source": [
    "import os, sys\n",
    "import pandas as pd\n",
    "import numpy as np"
   ]
  },
  {
   "cell_type": "code",
   "execution_count": 22,
   "metadata": {},
   "outputs": [],
   "source": [
    "path = '/home/wvillegas/datasets/dharmabuds/corpus-26000-bc'"
   ]
  },
  {
   "cell_type": "code",
   "execution_count": 23,
   "metadata": {},
   "outputs": [],
   "source": [
    "csv = pd.read_csv(os.path.join(path, 'corpus-26000.csv'))"
   ]
  },
  {
   "cell_type": "code",
   "execution_count": 24,
   "metadata": {},
   "outputs": [],
   "source": [
    "csv_test = pd.read_csv('/home/wvillegas/datasets/dharmabuds/testImagesConverted.csv)"
   ]
  },
  {
   "cell_type": "code",
   "execution_count": null,
   "metadata": {},
   "outputs": [],
   "source": [
    "csv_test.tolist()"
   ]
  },
  {
   "cell_type": "code",
   "execution_count": 25,
   "metadata": {},
   "outputs": [],
   "source": []
  },
  {
   "cell_type": "code",
   "execution_count": 26,
   "metadata": {},
   "outputs": [],
   "source": [
    "test_samples = pd.read_csv('/home/wvillegas/perturbInfo.csv')\n",
    "valid_positive = pd.Series(test_samples['origPatch'].unique())"
   ]
  },
  {
   "cell_type": "code",
   "execution_count": 27,
   "metadata": {},
   "outputs": [],
   "source": [
    "valid_negative = csv_negative.sample(axis=0,n=133,random_state=2)"
   ]
  },
  {
   "cell_type": "code",
   "execution_count": 28,
   "metadata": {},
   "outputs": [],
   "source": [
    "path_new = '/home/wvillegas/datasets/dharmabuds/'\n",
    "path_train_pos = os.path.join(path_new,'corpus-reestructurado', 'train', 'bud')\n",
    "path_train_neg = os.path.join(path_new,'corpus-reestructurado', 'train', 'non-bud')\n",
    "path_valid_pos = os.path.join(path_new,'corpus-reestructurado', 'valid', 'bud')\n",
    "path_valid_neg = os.path.join(path_new,'corpus-reestructurado', 'valid', 'non-bud')"
   ]
  },
  {
   "cell_type": "code",
   "execution_count": 29,
   "metadata": {},
   "outputs": [],
   "source": [
    "from shutil import copy"
   ]
  },
  {
   "cell_type": "code",
   "execution_count": 30,
   "metadata": {},
   "outputs": [
    {
     "data": {
      "text/plain": [
       "Index(['imageName', 'imageOrigin', 'xBudCenter', 'yBudCenter', 'radio',\n",
       "       'class', 'type'],\n",
       "      dtype='object')"
      ]
     },
     "execution_count": 30,
     "metadata": {},
     "output_type": "execute_result"
    }
   ],
   "source": [
    "csv.columns"
   ]
  },
  {
   "cell_type": "code",
   "execution_count": 32,
   "metadata": {},
   "outputs": [],
   "source": [
    "for idx, row in csv.iterrows():\n",
    "    imgPath = os.path.join(path, row['imageName'])\n",
    "    if (row['class'] ==True):\n",
    "        if (not (row['imageName'] in valid_positive.values)):\n",
    "            #copiar a train/bud\n",
    "            copy(imgPath, path_train_pos)\n",
    "            row['type'] = type_dict['train_bud']\n",
    "        else:\n",
    "            #copiar a valid/bud\n",
    "            copy(imgPath, path_valid_pos)\n",
    "            row['type'] = type_dict['valid_bud']\n",
    "\n",
    "    else:\n",
    "        if (valid_negative.loc[valid_negative['imageName'] == row['imageName']].shape[0]==0):\n",
    "            #copiar a train/nonbud\n",
    "            copy(imgPath, path_train_neg)\n",
    "            row['type'] = type_dict['train_nonbud']\n",
    "\n",
    "        else:\n",
    "            #copiar a valid/nonbud      \n",
    "            copy(imgPath, path_valid_neg)\n",
    "            row['type'] = type_dict['valid_nonbud']\n"
   ]
  }
 ],
 "metadata": {
  "kernelspec": {
   "display_name": "Python 3",
   "language": "python",
   "name": "python3"
  },
  "language_info": {
   "codemirror_mode": {
    "name": "ipython",
    "version": 3
   },
   "file_extension": ".py",
   "mimetype": "text/x-python",
   "name": "python",
   "nbconvert_exporter": "python",
   "pygments_lexer": "ipython3",
   "version": "3.6.6"
  }
 },
 "nbformat": 4,
 "nbformat_minor": 2
}
