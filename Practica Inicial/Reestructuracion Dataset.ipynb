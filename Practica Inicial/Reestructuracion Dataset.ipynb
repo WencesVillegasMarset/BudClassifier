{
 "cells": [
  {
   "cell_type": "code",
   "execution_count": 1,
   "metadata": {},
   "outputs": [],
   "source": [
    "import os, sys\n",
    "import pandas as pd\n",
    "import numpy as np"
   ]
  },
  {
   "cell_type": "code",
   "execution_count": 2,
   "metadata": {},
   "outputs": [],
   "source": [
    "path = '/home/wvillegas/datasets/dharmabuds/corpus-26000-bc'\n",
    " "
   ]
  },
  {
   "cell_type": "code",
   "execution_count": 3,
   "metadata": {},
   "outputs": [],
   "source": [
    "csv = pd.read_csv(os.path.join(path, 'corpus-26000.csv'))"
   ]
  },
  {
   "cell_type": "code",
   "execution_count": 4,
   "metadata": {},
   "outputs": [],
   "source": [
    "csv_positive = csv[csv['class'] == True]"
   ]
  },
  {
   "cell_type": "code",
   "execution_count": 5,
   "metadata": {},
   "outputs": [],
   "source": [
    "csv_negative = csv[csv['class'] == False]"
   ]
  },
  {
   "cell_type": "code",
   "execution_count": 6,
   "metadata": {},
   "outputs": [],
   "source": [
    "valid_positive = csv_positive.sample(axis=0, n=133, random_state=2)"
   ]
  },
  {
   "cell_type": "code",
   "execution_count": 7,
   "metadata": {},
   "outputs": [],
   "source": [
    "valid_negative = csv_negative.sample(axis=0,n=133,random_state=2)"
   ]
  },
  {
   "cell_type": "code",
   "execution_count": 10,
   "metadata": {},
   "outputs": [],
   "source": [
    "path_new = '/home/wvillegas/datasets/dharmabuds/'\n",
    "path_train_pos = os.path.join(path_new,'corpus-reestructurado', 'train', 'bud')\n",
    "path_train_neg = os.path.join(path_new,'corpus-reestructurado', 'train', 'non-bud')\n",
    "path_valid_pos = os.path.join(path_new,'corpus-reestructurado', 'valid', 'bud')\n",
    "path_valid_neg = os.path.join(path_new,'corpus-reestructurado', 'valid', 'non-bud')"
   ]
  },
  {
   "cell_type": "code",
   "execution_count": 17,
   "metadata": {},
   "outputs": [],
   "source": [
    "from shutil import copy"
   ]
  },
  {
   "cell_type": "code",
   "execution_count": 14,
   "metadata": {},
   "outputs": [
    {
     "data": {
      "text/plain": [
       "Index(['imageName', 'imageOrigin', 'xBudCenter', 'yBudCenter', 'radio',\n",
       "       'class', 'type'],\n",
       "      dtype='object')"
      ]
     },
     "execution_count": 14,
     "metadata": {},
     "output_type": "execute_result"
    }
   ],
   "source": [
    "csv.columns"
   ]
  },
  {
   "cell_type": "code",
   "execution_count": 15,
   "metadata": {},
   "outputs": [],
   "source": [
    "type_dict = {\n",
    "    'train_bud':0,\n",
    "    'train_nonbud':1,\n",
    "    'valid_bud':2,\n",
    "    'valid_nonbud':3\n",
    "}"
   ]
  },
  {
   "cell_type": "code",
   "execution_count": 18,
   "metadata": {},
   "outputs": [],
   "source": [
    "for idx, row in csv.iterrows():\n",
    "    imgPath = os.path.join(path, row['imageName'])\n",
    "    if (row['class'] ==True):\n",
    "        if (valid_positive.loc[valid_positive['imageName'] == row['imageName']].shape[0]==0):\n",
    "            #copiar a train/bud\n",
    "            copy(imgPath, path_train_pos)\n",
    "            row['type'] = type_dict['train_bud']\n",
    "        else:\n",
    "            #copiar a valid/bud\n",
    "            copy(imgPath, path_valid_pos)\n",
    "            row['type'] = type_dict['valid_bud']\n",
    "\n",
    "    else:\n",
    "        if (valid_negative.loc[valid_negative['imageName'] == row['imageName']].shape[0]==0):\n",
    "            #copiar a train/nonbud\n",
    "            copy(imgPath, path_train_neg)\n",
    "            row['type'] = type_dict['train_nonbud']\n",
    "\n",
    "        else:\n",
    "            #copiar a valid/nonbud      \n",
    "            copy(imgPath, path_valid_neg)\n",
    "            row['type'] = type_dict['valid_nonbud']\n"
   ]
  }
 ],
 "metadata": {
  "kernelspec": {
   "display_name": "Python 3",
   "language": "python",
   "name": "python3"
  },
  "language_info": {
   "codemirror_mode": {
    "name": "ipython",
    "version": 3
   },
   "file_extension": ".py",
   "mimetype": "text/x-python",
   "name": "python",
   "nbconvert_exporter": "python",
   "pygments_lexer": "ipython3",
   "version": "3.6.6"
  }
 },
 "nbformat": 4,
 "nbformat_minor": 2
}
