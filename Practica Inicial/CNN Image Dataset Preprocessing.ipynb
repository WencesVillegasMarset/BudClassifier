{
 "cells": [
  {
   "cell_type": "code",
   "execution_count": 1,
   "metadata": {},
   "outputs": [],
   "source": [
    "import os, cv2\n",
    "import numpy as np\n",
    "import matplotlib.pyplot as plt\n",
    "%matplotlib inline"
   ]
  },
  {
   "cell_type": "code",
   "execution_count": 3,
   "metadata": {},
   "outputs": [],
   "source": [
    "img_width = 128\n",
    "img_height = 128\n",
    "path = '/home/wvillegas/datasets/Datasets/SushiSandwich'"
   ]
  },
  {
   "cell_type": "code",
   "execution_count": 6,
   "metadata": {},
   "outputs": [
    {
     "data": {
      "text/plain": [
       "'/home/wvillegas/DLProjects/BudClassifier'"
      ]
     },
     "execution_count": 6,
     "metadata": {},
     "output_type": "execute_result"
    }
   ],
   "source": [
    "os.path.abspath('')"
   ]
  },
  {
   "cell_type": "code",
   "execution_count": 3,
   "metadata": {},
   "outputs": [],
   "source": [
    "folder_list = ['train', 'valid']\n",
    "class_list = ['sushi', 'sandwich']\n",
    "train_list = []\n",
    "train_label_list = []\n",
    "test_list = []\n",
    "test_label_list = []\n",
    "for folder in folder_list:\n",
    "    for img_class in class_list:\n",
    "        this_path = path + '/{}/{}'.format(folder, img_class)\n",
    "        img_dir = os.listdir(this_path)\n",
    "        for img in img_dir:\n",
    "            input_img = cv2.imread(this_path + '/' + img)\n",
    "            #convert to BW colorspace\n",
    "            input_img = cv2.cvtColor(input_img, cv2.COLOR_BGR2GRAY)\n",
    "            #resize the image\n",
    "            input_img_resize = cv2.resize(input_img, (img_height, img_width))\n",
    "            if folder == 'train':\n",
    "                train_list.append(input_img_resize)\n",
    "                train_label_list.append(0 if img_class == 'sushi' else 1)\n",
    "            else:\n",
    "                test_list.append(input_img_resize)\n",
    "                test_label_list.append(0 if img_class == 'sushi' else 1)"
   ]
  },
  {
   "cell_type": "code",
   "execution_count": 4,
   "metadata": {},
   "outputs": [],
   "source": [
    "#shuffle dataset\n",
    "def shuffle_dataset(a, b):\n",
    "    rng_state = np.random.get_state()\n",
    "    np.random.shuffle(a)\n",
    "    np.random.set_state(rng_state)\n",
    "    np.random.shuffle(b)"
   ]
  },
  {
   "cell_type": "code",
   "execution_count": 5,
   "metadata": {},
   "outputs": [],
   "source": [
    "train = np.asarray(train_list)/255\n",
    "train_labels = np.asarray(train_label_list)\n",
    "test = np.asarray(test_list)/255\n",
    "test_labels = np.asarray(test_label_list)"
   ]
  },
  {
   "cell_type": "code",
   "execution_count": 6,
   "metadata": {},
   "outputs": [],
   "source": [
    "shuffle_dataset(train,train_labels)\n",
    "shuffle_dataset(test, test_labels)"
   ]
  },
  {
   "cell_type": "code",
   "execution_count": null,
   "metadata": {},
   "outputs": [],
   "source": []
  },
  {
   "cell_type": "code",
   "execution_count": 7,
   "metadata": {},
   "outputs": [],
   "source": [
    "#save ndarrays to disk\n",
    "np.save('train', train)\n",
    "np.save('train_labels', train_labels)\n",
    "np.save('test', test)\n",
    "np.save('test_labels', test_labels)"
   ]
  },
  {
   "cell_type": "code",
   "execution_count": null,
   "metadata": {},
   "outputs": [],
   "source": []
  }
 ],
 "metadata": {
  "kernelspec": {
   "display_name": "Python 3",
   "language": "python",
   "name": "python3"
  },
  "language_info": {
   "codemirror_mode": {
    "name": "ipython",
    "version": 3
   },
   "file_extension": ".py",
   "mimetype": "text/x-python",
   "name": "python",
   "nbconvert_exporter": "python",
   "pygments_lexer": "ipython3",
   "version": "3.6.6"
  }
 },
 "nbformat": 4,
 "nbformat_minor": 2
}
